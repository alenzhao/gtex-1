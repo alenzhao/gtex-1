{
 "cells": [
  {
   "cell_type": "code",
   "execution_count": 5,
   "metadata": {
    "collapsed": false
   },
   "outputs": [],
   "source": [
    "import pandas"
   ]
  },
  {
   "cell_type": "markdown",
   "metadata": {
    "collapsed": false
   },
   "source": [
    "IPython code to download GTEx files (set as markdown to avoid executing):\n",
    "```python\n",
    "# Retrieve data from GTEx Download\n",
    "annotations_url = 'http://www.gtexportal.org/static/datasets/gtex_analysis_v4/annotations/GTEx_Data_V4_Annotations_SampleAttributesDS.txt'\n",
    "expression_url = 'http://www.gtexportal.org/static/datasets/gtex_analysis_v4/rna_seq_data/GTEx_Analysis_V4_RNA-seq_RNA-SeQCv1.1.8_gene_rpkm.gct.gz'\n",
    "for url in annotations_url, expression_url:\n",
    "    !wget --timestamping --directory-prefix download $url\n",
    "```"
   ]
  },
  {
   "cell_type": "code",
   "execution_count": 13,
   "metadata": {
    "collapsed": false
   },
   "outputs": [],
   "source": [
    "# Read sample annotations\n",
    "path = 'download/GTEx_Data_V4_Annotations_SampleAttributesDS.txt'\n",
    "sample_df = pandas.read_table(path)"
   ]
  },
  {
   "cell_type": "code",
   "execution_count": 22,
   "metadata": {
    "collapsed": false
   },
   "outputs": [
    {
     "data": {
      "text/html": [
       "<div style=\"max-height:1000px;max-width:1500px;overflow:auto;\">\n",
       "<table border=\"1\" class=\"dataframe\">\n",
       "  <thead>\n",
       "    <tr style=\"text-align: right;\">\n",
       "      <th></th>\n",
       "      <th>SMTS</th>\n",
       "      <th>SMTSD</th>\n",
       "      <th>count</th>\n",
       "    </tr>\n",
       "  </thead>\n",
       "  <tbody>\n",
       "    <tr>\n",
       "      <th>0</th>\n",
       "      <td>Adipose Tissue</td>\n",
       "      <td>Adipose - Subcutaneous</td>\n",
       "      <td>178</td>\n",
       "    </tr>\n",
       "    <tr>\n",
       "      <th>1</th>\n",
       "      <td>Adipose Tissue</td>\n",
       "      <td>Adipose - Visceral (Omentum)</td>\n",
       "      <td>31</td>\n",
       "    </tr>\n",
       "    <tr>\n",
       "      <th>2</th>\n",
       "      <td>Adrenal Gland</td>\n",
       "      <td>Adrenal Gland</td>\n",
       "      <td>57</td>\n",
       "    </tr>\n",
       "    <tr>\n",
       "      <th>3</th>\n",
       "      <td>Bladder</td>\n",
       "      <td>Bladder</td>\n",
       "      <td>11</td>\n",
       "    </tr>\n",
       "    <tr>\n",
       "      <th>4</th>\n",
       "      <td>Blood</td>\n",
       "      <td>Cells - EBV-transformed lymphocytes</td>\n",
       "      <td>61</td>\n",
       "    </tr>\n",
       "  </tbody>\n",
       "</table>\n",
       "</div>"
      ],
      "text/plain": [
       "             SMTS                                SMTSD  count\n",
       "0  Adipose Tissue               Adipose - Subcutaneous    178\n",
       "1  Adipose Tissue         Adipose - Visceral (Omentum)     31\n",
       "2   Adrenal Gland                        Adrenal Gland     57\n",
       "3         Bladder                              Bladder     11\n",
       "4           Blood  Cells - EBV-transformed lymphocytes     61"
      ]
     },
     "execution_count": 22,
     "metadata": {},
     "output_type": "execute_result"
    }
   ],
   "source": [
    "# Collapse samples by tissues\n",
    "tissue_df = sample_df.groupby(['SMTS', 'SMTSD']).apply(\n",
    "    lambda df: pandas.Series({'count': len(df)})).reset_index()\n",
    "tissue_df.to_csv('data/tissues.tsv', index=False, sep='\\t')\n",
    "tissue_df.head()"
   ]
  },
  {
   "cell_type": "code",
   "execution_count": null,
   "metadata": {
    "collapsed": false
   },
   "outputs": [],
   "source": []
  },
  {
   "cell_type": "code",
   "execution_count": 23,
   "metadata": {
    "collapsed": true
   },
   "outputs": [],
   "source": [
    "# Read expression matrix\n",
    "path = 'download/GTEx_Analysis_V4_RNA-seq_RNA-SeQCv1.1.8_gene_rpkm.gct.gz'\n",
    "gtex_df = pandas.read_table(path, compression='gzip', skiprows=2)"
   ]
  },
  {
   "cell_type": "code",
   "execution_count": 24,
   "metadata": {
    "collapsed": false
   },
   "outputs": [
    {
     "data": {
      "text/html": [
       "<div style=\"max-height:1000px;max-width:1500px;overflow:auto;\">\n",
       "<table border=\"1\" class=\"dataframe\">\n",
       "  <thead>\n",
       "    <tr style=\"text-align: right;\">\n",
       "      <th></th>\n",
       "      <th>Name</th>\n",
       "      <th>Description</th>\n",
       "      <th>GTEX-N7MS-0007-SM-2D7W1</th>\n",
       "      <th>GTEX-N7MS-0008-SM-4E3JI</th>\n",
       "      <th>GTEX-N7MS-0011-R10A-SM-2HMJK</th>\n",
       "      <th>GTEX-N7MS-0011-R11A-SM-2HMJS</th>\n",
       "      <th>GTEX-N7MS-0011-R1a-SM-2HMJG</th>\n",
       "      <th>GTEX-N7MS-0011-R2a-SM-2HML6</th>\n",
       "      <th>GTEX-N7MS-0011-R3a-SM-33HC6</th>\n",
       "      <th>GTEX-N7MS-0011-R4a-SM-2HMKW</th>\n",
       "      <th>...</th>\n",
       "      <th>GTEX-XYKS-1626-SM-4BRUQ</th>\n",
       "      <th>GTEX-XYKS-1726-SM-4E3IO</th>\n",
       "      <th>GTEX-XYKS-1826-SM-4E3JV</th>\n",
       "      <th>GTEX-XYKS-2126-SM-4E3IB</th>\n",
       "      <th>GTEX-XYKS-2226-SM-4E3IU</th>\n",
       "      <th>GTEX-XYKS-2426-SM-4AT43</th>\n",
       "      <th>GTEX-XYKS-2526-SM-4BOPX</th>\n",
       "      <th>GTEX-XYKS-2626-SM-4BRUT</th>\n",
       "      <th>GTEX-XYKS-2726-SM-4E3IC</th>\n",
       "      <th>GTEX-Y8E5-0006-SM-47JWQ</th>\n",
       "    </tr>\n",
       "  </thead>\n",
       "  <tbody>\n",
       "    <tr>\n",
       "      <th>0</th>\n",
       "      <td>ENSG00000223972.4</td>\n",
       "      <td>DDX11L1</td>\n",
       "      <td>0.00000</td>\n",
       "      <td>0.000000</td>\n",
       "      <td>0.000000</td>\n",
       "      <td>0.000000</td>\n",
       "      <td>0.000000</td>\n",
       "      <td>0.000000</td>\n",
       "      <td>0.029064</td>\n",
       "      <td>0.000000</td>\n",
       "      <td>...</td>\n",
       "      <td>0.000000</td>\n",
       "      <td>0.000000</td>\n",
       "      <td>0.000000</td>\n",
       "      <td>0.000000</td>\n",
       "      <td>0.00000</td>\n",
       "      <td>0.000000</td>\n",
       "      <td>0.000000</td>\n",
       "      <td>0.000000</td>\n",
       "      <td>0.000000</td>\n",
       "      <td>0.000000</td>\n",
       "    </tr>\n",
       "    <tr>\n",
       "      <th>1</th>\n",
       "      <td>ENSG00000227232.4</td>\n",
       "      <td>WASH7P</td>\n",
       "      <td>2.95098</td>\n",
       "      <td>1.536591</td>\n",
       "      <td>1.963210</td>\n",
       "      <td>5.779140</td>\n",
       "      <td>1.706777</td>\n",
       "      <td>2.431941</td>\n",
       "      <td>3.955117</td>\n",
       "      <td>2.202283</td>\n",
       "      <td>...</td>\n",
       "      <td>7.833423</td>\n",
       "      <td>9.380618</td>\n",
       "      <td>4.951715</td>\n",
       "      <td>10.038196</td>\n",
       "      <td>9.17151</td>\n",
       "      <td>4.339119</td>\n",
       "      <td>8.869831</td>\n",
       "      <td>5.068189</td>\n",
       "      <td>6.129316</td>\n",
       "      <td>4.622728</td>\n",
       "    </tr>\n",
       "    <tr>\n",
       "      <th>2</th>\n",
       "      <td>ENSG00000243485.2</td>\n",
       "      <td>MIR1302-11</td>\n",
       "      <td>0.00000</td>\n",
       "      <td>0.000000</td>\n",
       "      <td>0.059102</td>\n",
       "      <td>0.032699</td>\n",
       "      <td>0.000000</td>\n",
       "      <td>0.069976</td>\n",
       "      <td>0.056192</td>\n",
       "      <td>0.022790</td>\n",
       "      <td>...</td>\n",
       "      <td>0.035923</td>\n",
       "      <td>0.017177</td>\n",
       "      <td>0.017386</td>\n",
       "      <td>0.107205</td>\n",
       "      <td>0.00000</td>\n",
       "      <td>0.000000</td>\n",
       "      <td>0.000000</td>\n",
       "      <td>0.000000</td>\n",
       "      <td>0.000000</td>\n",
       "      <td>0.000000</td>\n",
       "    </tr>\n",
       "    <tr>\n",
       "      <th>3</th>\n",
       "      <td>ENSG00000237613.2</td>\n",
       "      <td>FAM138A</td>\n",
       "      <td>0.00000</td>\n",
       "      <td>0.000000</td>\n",
       "      <td>0.000000</td>\n",
       "      <td>0.000000</td>\n",
       "      <td>0.000000</td>\n",
       "      <td>0.000000</td>\n",
       "      <td>0.000000</td>\n",
       "      <td>0.000000</td>\n",
       "      <td>...</td>\n",
       "      <td>0.000000</td>\n",
       "      <td>0.000000</td>\n",
       "      <td>0.000000</td>\n",
       "      <td>0.000000</td>\n",
       "      <td>0.00000</td>\n",
       "      <td>0.000000</td>\n",
       "      <td>0.000000</td>\n",
       "      <td>0.000000</td>\n",
       "      <td>0.000000</td>\n",
       "      <td>0.000000</td>\n",
       "    </tr>\n",
       "    <tr>\n",
       "      <th>4</th>\n",
       "      <td>ENSG00000268020.2</td>\n",
       "      <td>OR4G4P</td>\n",
       "      <td>0.00000</td>\n",
       "      <td>0.000000</td>\n",
       "      <td>0.000000</td>\n",
       "      <td>0.000000</td>\n",
       "      <td>0.000000</td>\n",
       "      <td>0.000000</td>\n",
       "      <td>0.000000</td>\n",
       "      <td>0.000000</td>\n",
       "      <td>...</td>\n",
       "      <td>0.000000</td>\n",
       "      <td>0.037039</td>\n",
       "      <td>0.000000</td>\n",
       "      <td>0.000000</td>\n",
       "      <td>0.00000</td>\n",
       "      <td>0.000000</td>\n",
       "      <td>0.000000</td>\n",
       "      <td>0.000000</td>\n",
       "      <td>0.000000</td>\n",
       "      <td>0.000000</td>\n",
       "    </tr>\n",
       "  </tbody>\n",
       "</table>\n",
       "<p>5 rows × 2923 columns</p>\n",
       "</div>"
      ],
      "text/plain": [
       "                Name Description  GTEX-N7MS-0007-SM-2D7W1  \\\n",
       "0  ENSG00000223972.4     DDX11L1                  0.00000   \n",
       "1  ENSG00000227232.4      WASH7P                  2.95098   \n",
       "2  ENSG00000243485.2  MIR1302-11                  0.00000   \n",
       "3  ENSG00000237613.2     FAM138A                  0.00000   \n",
       "4  ENSG00000268020.2      OR4G4P                  0.00000   \n",
       "\n",
       "   GTEX-N7MS-0008-SM-4E3JI  GTEX-N7MS-0011-R10A-SM-2HMJK  \\\n",
       "0                 0.000000                      0.000000   \n",
       "1                 1.536591                      1.963210   \n",
       "2                 0.000000                      0.059102   \n",
       "3                 0.000000                      0.000000   \n",
       "4                 0.000000                      0.000000   \n",
       "\n",
       "   GTEX-N7MS-0011-R11A-SM-2HMJS  GTEX-N7MS-0011-R1a-SM-2HMJG  \\\n",
       "0                      0.000000                     0.000000   \n",
       "1                      5.779140                     1.706777   \n",
       "2                      0.032699                     0.000000   \n",
       "3                      0.000000                     0.000000   \n",
       "4                      0.000000                     0.000000   \n",
       "\n",
       "   GTEX-N7MS-0011-R2a-SM-2HML6  GTEX-N7MS-0011-R3a-SM-33HC6  \\\n",
       "0                     0.000000                     0.029064   \n",
       "1                     2.431941                     3.955117   \n",
       "2                     0.069976                     0.056192   \n",
       "3                     0.000000                     0.000000   \n",
       "4                     0.000000                     0.000000   \n",
       "\n",
       "   GTEX-N7MS-0011-R4a-SM-2HMKW           ...             \\\n",
       "0                     0.000000           ...              \n",
       "1                     2.202283           ...              \n",
       "2                     0.022790           ...              \n",
       "3                     0.000000           ...              \n",
       "4                     0.000000           ...              \n",
       "\n",
       "   GTEX-XYKS-1626-SM-4BRUQ  GTEX-XYKS-1726-SM-4E3IO  GTEX-XYKS-1826-SM-4E3JV  \\\n",
       "0                 0.000000                 0.000000                 0.000000   \n",
       "1                 7.833423                 9.380618                 4.951715   \n",
       "2                 0.035923                 0.017177                 0.017386   \n",
       "3                 0.000000                 0.000000                 0.000000   \n",
       "4                 0.000000                 0.037039                 0.000000   \n",
       "\n",
       "   GTEX-XYKS-2126-SM-4E3IB  GTEX-XYKS-2226-SM-4E3IU  GTEX-XYKS-2426-SM-4AT43  \\\n",
       "0                 0.000000                  0.00000                 0.000000   \n",
       "1                10.038196                  9.17151                 4.339119   \n",
       "2                 0.107205                  0.00000                 0.000000   \n",
       "3                 0.000000                  0.00000                 0.000000   \n",
       "4                 0.000000                  0.00000                 0.000000   \n",
       "\n",
       "   GTEX-XYKS-2526-SM-4BOPX  GTEX-XYKS-2626-SM-4BRUT  GTEX-XYKS-2726-SM-4E3IC  \\\n",
       "0                 0.000000                 0.000000                 0.000000   \n",
       "1                 8.869831                 5.068189                 6.129316   \n",
       "2                 0.000000                 0.000000                 0.000000   \n",
       "3                 0.000000                 0.000000                 0.000000   \n",
       "4                 0.000000                 0.000000                 0.000000   \n",
       "\n",
       "   GTEX-Y8E5-0006-SM-47JWQ  \n",
       "0                 0.000000  \n",
       "1                 4.622728  \n",
       "2                 0.000000  \n",
       "3                 0.000000  \n",
       "4                 0.000000  \n",
       "\n",
       "[5 rows x 2923 columns]"
      ]
     },
     "execution_count": 24,
     "metadata": {},
     "output_type": "execute_result"
    }
   ],
   "source": [
    "gtex_df.head()"
   ]
  },
  {
   "cell_type": "code",
   "execution_count": 25,
   "metadata": {
    "collapsed": false
   },
   "outputs": [
    {
     "data": {
      "text/plain": [
       "55993"
      ]
     },
     "execution_count": 25,
     "metadata": {},
     "output_type": "execute_result"
    }
   ],
   "source": [
    "len(gtex_df)"
   ]
  },
  {
   "cell_type": "code",
   "execution_count": null,
   "metadata": {
    "collapsed": false
   },
   "outputs": [],
   "source": []
  }
 ],
 "metadata": {
  "kernelspec": {
   "display_name": "Python 3",
   "language": "python",
   "name": "python3"
  },
  "language_info": {
   "codemirror_mode": {
    "name": "ipython",
    "version": 3
   },
   "file_extension": ".py",
   "mimetype": "text/x-python",
   "name": "python",
   "nbconvert_exporter": "python",
   "pygments_lexer": "ipython3",
   "version": "3.4.3"
  }
 },
 "nbformat": 4,
 "nbformat_minor": 0
}
